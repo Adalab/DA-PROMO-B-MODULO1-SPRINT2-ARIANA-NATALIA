{
 "cells": [
  {
   "cell_type": "code",
   "execution_count": 1,
   "metadata": {},
   "outputs": [
    {
     "data": {
      "text/plain": [
       "'El/ella es Ana Bonita quien lleva con nostros en la empresa desde hace 3 años y tiene 32 de vacaciones'"
      ]
     },
     "execution_count": 1,
     "metadata": {},
     "output_type": "execute_result"
    }
   ],
   "source": [
    "class Empleados:\n",
    "\n",
    "    def __init__(self, nombre, apellido, edad, posicion, año, días, herramientas):\n",
    "\n",
    "        self.nombre = nombre\n",
    "\n",
    "        self.apellido = apellido\n",
    "\n",
    "        self.edad = edad \n",
    "\n",
    "        self.posicion = posicion \n",
    "\n",
    "        self.año = año \n",
    "\n",
    "        self.días = días # días de vacaciones que tiene\n",
    "\n",
    "        self.herramientas = herramientas \n",
    "\n",
    "\n",
    "# Definir método descripción.\n",
    "\n",
    "    def definiendo_descripción(self):\n",
    "       \n",
    "        return f\"El/ella es {self.nombre} {self.apellido} quien lleva con nostros en la empresa desde hace {self.año} años y tiene {self.días} de vacaciones\"\n",
    "\n",
    "# Cálculo de Vacaciones. \n",
    "    \n",
    "    def cálculo_vacaciones(self):\n",
    "\n",
    "        días_disfrutados = int(input(\"Ingrese la cantidad de días que ha disfrutado de vacaciones: \"))\n",
    "        días_por_disfrutar = int(self.días - días_disfrutados) \n",
    "\n",
    "        if días_disfrutados == 0:\n",
    "            print (\"¡Ya se le acabaron las vacaciones!\")\n",
    "        elif días_disfrutados > días_por_disfrutar:\n",
    "            print (\"¡No se puede ir tantos días de vacaciones!\")\n",
    "        else:\n",
    "            return f\"¡Te quedan {días_por_disfrutar} días por disfrutar!\" \n",
    "\n",
    "# Cambiando posición\n",
    "\n",
    "    def cambiando_posición(self):\n",
    "\n",
    "        for i in self.herramientas:\n",
    "            if i == \"Python\":\n",
    "                return  \"Bien hecho\"\n",
    "            else:\n",
    "                return \"Siempre es mejor usar Python\"\n",
    "            \n",
    "\n",
    "empleado = Empleados('Ana', 'Bonita', 20, 'DataAnalist', 3, 32, [\"Python\", \"Excel\", \"Outlook\", \"Word\"])\n",
    "\n",
    "\n",
    "\n",
    "empleado.definiendo_descripción()"
   ]
  },
  {
   "cell_type": "code",
   "execution_count": 2,
   "metadata": {},
   "outputs": [
    {
     "data": {
      "text/plain": [
       "'¡Te quedan 20 días por disfrutar!'"
      ]
     },
     "execution_count": 2,
     "metadata": {},
     "output_type": "execute_result"
    }
   ],
   "source": [
    "empleado.cálculo_vacaciones()"
   ]
  },
  {
   "cell_type": "code",
   "execution_count": 4,
   "metadata": {},
   "outputs": [
    {
     "name": "stdout",
     "output_type": "stream",
     "text": [
      "Bien hecho\n"
     ]
    }
   ],
   "source": [
    "empleado.cambiando_posición()"
   ]
  }
 ],
 "metadata": {
  "kernelspec": {
   "display_name": "Python 3.10.3 64-bit",
   "language": "python",
   "name": "python3"
  },
  "language_info": {
   "codemirror_mode": {
    "name": "ipython",
    "version": 3
   },
   "file_extension": ".py",
   "mimetype": "text/x-python",
   "name": "python",
   "nbconvert_exporter": "python",
   "pygments_lexer": "ipython3",
   "version": "3.10.3"
  },
  "orig_nbformat": 4,
  "vscode": {
   "interpreter": {
    "hash": "6c417e8ec6dca726918e9382ccd5f9a276f75c00fe45ac2c66804bdd5db60888"
   }
  }
 },
 "nbformat": 4,
 "nbformat_minor": 2
}
