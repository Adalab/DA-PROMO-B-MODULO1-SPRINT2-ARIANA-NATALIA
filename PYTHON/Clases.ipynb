{
 "cells": [
  {
   "cell_type": "code",
   "execution_count": 20,
   "metadata": {},
   "outputs": [
    {
     "data": {
      "text/plain": [
       "'El/ella es Ana Bonita quien lleva con nostros en la empresa desde hace 3 años y tiene 32 de vacaciones'"
      ]
     },
     "execution_count": 20,
     "metadata": {},
     "output_type": "execute_result"
    }
   ],
   "source": [
    "class Empleados:\n",
    "\n",
    "    def __init__(self, nombre, apellido, edad, posicion, año, días, herramientas):\n",
    "\n",
    "        self.nombre = nombre\n",
    "\n",
    "        self.apellido = apellido\n",
    "\n",
    "        self.edad = edad \n",
    "\n",
    "        self.posicion = posicion \n",
    "\n",
    "        self.año = año \n",
    "\n",
    "        self.días = días # días de vacaciones que tiene\n",
    "\n",
    "        self.herramientas = herramientas \n",
    "\n",
    "\n",
    "# Definir método descripción.\n",
    "\n",
    "    def definiendo_descripción(self):\n",
    "       \n",
    "        return f\"El/ella es {self.nombre} {self.apellido} quien lleva con nostros en la empresa desde hace {self.año} años y tiene {self.días} de vacaciones\"\n",
    "\n",
    "# Cálculo de Vacaciones. \n",
    "    \n",
    "    def cálculo_vacaciones(self):\n",
    "\n",
    "        días_disfrutados = int(input(\"Ingrese la cantidad de días que ha disfrutado de vacaciones: \"))\n",
    "        días_por_disfrutar = int(self.días - días_disfrutados) \n",
    "\n",
    "        if días_disfrutados == 0:\n",
    "            print (\"¡Ya se le acabaron las vacaciones!\")\n",
    "        elif días_disfrutados > días_por_disfrutar:\n",
    "            print (\"¡No se puede ir tantos días de vacaciones!\")\n",
    "        else:\n",
    "            print (f\"¡Te quedan {días_por_disfrutar} días por disfrutar!\") \n",
    "    \n",
    "        return\n",
    "\n",
    "# Cambiando posición\n",
    "\n",
    "    def cambiando_posición(self):\n",
    "\n",
    "\n",
    "        for herramientas in self.herramientas:\n",
    "            if herramientas == \"Python\":\n",
    "                return (\"Felicidades. Python es lo mejor.\")\n",
    "            elif herramientas == \"Excel\":\n",
    "                return (\"Le recomendamos que deje de usar Excel y comience a usar Python\")\n",
    "            else:\n",
    "                return (\"Python es la mejor opción\")\n",
    "        return    \n",
    "\n",
    "empleado = Empleados('Ana', 'Bonita', 20, 'DataAnalist', 3, 32, [\"Python\",\"Excel\",\"Word\"])\n",
    "\n",
    "\n",
    "\n",
    "empleado.definiendo_descripción()"
   ]
  },
  {
   "cell_type": "code",
   "execution_count": 9,
   "metadata": {},
   "outputs": [
    {
     "name": "stdout",
     "output_type": "stream",
     "text": [
      "¡Te quedan 20 días por disfrutar!\n"
     ]
    }
   ],
   "source": [
    "empleado.cálculo_vacaciones()"
   ]
  },
  {
   "cell_type": "code",
   "execution_count": 21,
   "metadata": {},
   "outputs": [
    {
     "data": {
      "text/plain": [
       "'Le recomendamos que deje de usar Excel y comience a usar Python'"
      ]
     },
     "execution_count": 21,
     "metadata": {},
     "output_type": "execute_result"
    }
   ],
   "source": [
    "empleado.cambiando_posición()"
   ]
  }
 ],
 "metadata": {
  "kernelspec": {
   "display_name": "Python 3.10.3 64-bit",
   "language": "python",
   "name": "python3"
  },
  "language_info": {
   "codemirror_mode": {
    "name": "ipython",
    "version": 3
   },
   "file_extension": ".py",
   "mimetype": "text/x-python",
   "name": "python",
   "nbconvert_exporter": "python",
   "pygments_lexer": "ipython3",
   "version": "3.10.5"
  },
  "orig_nbformat": 4,
  "vscode": {
   "interpreter": {
    "hash": "6c417e8ec6dca726918e9382ccd5f9a276f75c00fe45ac2c66804bdd5db60888"
   }
  }
 },
 "nbformat": 4,
 "nbformat_minor": 2
}
