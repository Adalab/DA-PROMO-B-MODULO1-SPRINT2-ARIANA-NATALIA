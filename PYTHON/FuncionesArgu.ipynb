{
 "cells": [
  {
   "cell_type": "code",
   "execution_count": 74,
   "metadata": {},
   "outputs": [],
   "source": [
    "#EJERCICIO 1: \n",
    "#Calculadora de puntos que toma una cadena de sings y devuelve una cadena de strings. \n",
    "\n",
    "def calular_puntos(string):\n",
    "\n",
    "    lista_string = string.split() #Convertimos la cadena a lista.\n",
    "    \n",
    "\n",
    "    if lista_string[1] == \"+\":\n",
    "        resultado = len(lista_string[0]) + len(lista_string[2])\n",
    "\n",
    "    elif lista_string[1] == \"-\" and len(lista_string[0]) >= len(lista_string[2]):\n",
    "        resultado = len(lista_string[0]) - len(lista_string[2])\n",
    "\n",
    "    elif lista_string[1] == \"*\":\n",
    "        resultado = len(lista_string[0]) * len(lista_string[2])\n",
    "\n",
    "    elif lista_string[1] == \"//\":\n",
    "        resultado = len(lista_string[0]) // len(lista_string[2])\n",
    "\n",
    "    return resultado * \".\""
   ]
  },
  {
   "cell_type": "code",
   "execution_count": 75,
   "metadata": {},
   "outputs": [
    {
     "data": {
      "text/plain": [
       "'....................'"
      ]
     },
     "execution_count": 75,
     "metadata": {},
     "output_type": "execute_result"
    }
   ],
   "source": [
    "calular_puntos(\"..... + ...............\")"
   ]
  },
  {
   "cell_type": "code",
   "execution_count": 76,
   "metadata": {},
   "outputs": [
    {
     "data": {
      "text/plain": [
       "'..'"
      ]
     },
     "execution_count": 76,
     "metadata": {},
     "output_type": "execute_result"
    }
   ],
   "source": [
    "calular_puntos(\"..... - ...\")"
   ]
  },
  {
   "cell_type": "code",
   "execution_count": 77,
   "metadata": {},
   "outputs": [
    {
     "data": {
      "text/plain": [
       "'...............'"
      ]
     },
     "execution_count": 77,
     "metadata": {},
     "output_type": "execute_result"
    }
   ],
   "source": [
    "calular_puntos(\"..... * ...\")"
   ]
  },
  {
   "cell_type": "code",
   "execution_count": 78,
   "metadata": {},
   "outputs": [
    {
     "data": {
      "text/plain": [
       "'..'"
      ]
     },
     "execution_count": 78,
     "metadata": {},
     "output_type": "execute_result"
    }
   ],
   "source": [
    "calular_puntos(\"..... // ..\")"
   ]
  },
  {
   "cell_type": "code",
   "execution_count": 79,
   "metadata": {},
   "outputs": [
    {
     "data": {
      "text/plain": [
       "''"
      ]
     },
     "execution_count": 79,
     "metadata": {},
     "output_type": "execute_result"
    }
   ],
   "source": [
    "calular_puntos(\". // ..\")"
   ]
  },
  {
   "cell_type": "code",
   "execution_count": 80,
   "metadata": {},
   "outputs": [
    {
     "data": {
      "text/plain": [
       "''"
      ]
     },
     "execution_count": 80,
     "metadata": {},
     "output_type": "execute_result"
    }
   ],
   "source": [
    "calular_puntos(\".. - ..\" )"
   ]
  },
  {
   "cell_type": "code",
   "execution_count": 82,
   "metadata": {},
   "outputs": [],
   "source": [
    "#EJERCICIO 2:\n",
    "#Encontrar el próximo cumpleaños o el año más cercano en el que verás a tu mejor amigo.\n",
    "\n",
    "def calcular_año(año):\n",
    "\n",
    "    año_siguiente = str(año) #Convertimos el año a str.\n",
    "    \n",
    "    while len(set(año_siguiente)) != 4:\n",
    "        año += 1\n",
    "        año_siguiente = str(año)\n",
    "    return año\n",
    "    "
   ]
  },
  {
   "cell_type": "code",
   "execution_count": 83,
   "metadata": {},
   "outputs": [
    {
     "data": {
      "text/plain": [
       "7801"
      ]
     },
     "execution_count": 83,
     "metadata": {},
     "output_type": "execute_result"
    }
   ],
   "source": [
    "calcular_año(7712)"
   ]
  },
  {
   "cell_type": "code",
   "execution_count": 84,
   "metadata": {},
   "outputs": [
    {
     "data": {
      "text/plain": [
       "1023"
      ]
     },
     "execution_count": 84,
     "metadata": {},
     "output_type": "execute_result"
    }
   ],
   "source": [
    "calcular_año(1001)"
   ]
  },
  {
   "cell_type": "code",
   "execution_count": 85,
   "metadata": {},
   "outputs": [],
   "source": [
    "#EJERCICIO 3: \n",
    "#Función que chequee la vida de un evaporador que contiene un gas.\n",
    "\n",
    "def chequear_evaporador(cantidad_ml, porcentaje_día, umbral_pérdida):\n",
    "\n",
    "    \n",
    "    umbral_a_ml = (cantidad_ml * umbral_pérdida) / 100 #Calculamos el umbral de pérdida al día en ml.\n",
    "    días = 0\n",
    "\n",
    "    while umbral_a_ml <= cantidad_ml:\n",
    "        cantidad_ml -= (cantidad_ml * porcentaje_día) / 100 #Calculamos el porcentje de pérdida al día en ml.\n",
    "        días += 1\n",
    "    \n",
    "    print(f\"Le quedan {días} días de vida al evaporador de gas.\")"
   ]
  },
  {
   "cell_type": "code",
   "execution_count": 86,
   "metadata": {},
   "outputs": [
    {
     "name": "stdout",
     "output_type": "stream",
     "text": [
      "Le quedan 29 días de vida al evaporador de gas.\n"
     ]
    }
   ],
   "source": [
    "chequear_evaporador(10 , 10, 5)"
   ]
  },
  {
   "cell_type": "code",
   "execution_count": 87,
   "metadata": {},
   "outputs": [
    {
     "name": "stdout",
     "output_type": "stream",
     "text": [
      "Le quedan 22 días de vida al evaporador de gas.\n"
     ]
    }
   ],
   "source": [
    "chequear_evaporador(10 , 10, 10)"
   ]
  },
  {
   "cell_type": "code",
   "execution_count": null,
   "metadata": {},
   "outputs": [],
   "source": [
    "#EJERCICIO 4:\n",
    "# Función que tome como argumento un entero y devuelva True o False dependiendo de si el número es primo o no.\n",
    "\n",
    "def número_primo(número):\n",
    "\n",
    "    if número >= 1:\n",
    "        if número % número == 0 and número % 1 == 0:\n",
    "            for num in range(2, número):\n",
    "                if número % num == 0:\n",
    "                    return False\n",
    "            return True\n",
    "        else:    \n",
    "            return False\n",
    "    else:    \n",
    "        return False\n",
    "\n",
    "número_primo(0)"
   ]
  },
  {
   "cell_type": "code",
   "execution_count": 33,
   "metadata": {},
   "outputs": [
    {
     "data": {
      "text/plain": [
       "True"
      ]
     },
     "execution_count": 33,
     "metadata": {},
     "output_type": "execute_result"
    }
   ],
   "source": [
    "número_primo(2)"
   ]
  },
  {
   "cell_type": "code",
   "execution_count": 34,
   "metadata": {},
   "outputs": [
    {
     "data": {
      "text/plain": [
       "True"
      ]
     },
     "execution_count": 34,
     "metadata": {},
     "output_type": "execute_result"
    }
   ],
   "source": [
    "número_primo(73)"
   ]
  },
  {
   "cell_type": "code",
   "execution_count": 35,
   "metadata": {},
   "outputs": [
    {
     "data": {
      "text/plain": [
       "False"
      ]
     },
     "execution_count": 35,
     "metadata": {},
     "output_type": "execute_result"
    }
   ],
   "source": [
    "número_primo(-1)"
   ]
  },
  {
   "cell_type": "code",
   "execution_count": 36,
   "metadata": {},
   "outputs": [
    {
     "data": {
      "text/plain": [
       "True"
      ]
     },
     "execution_count": 36,
     "metadata": {},
     "output_type": "execute_result"
    }
   ],
   "source": [
    "número_primo(5099)"
   ]
  },
  {
   "cell_type": "code",
   "execution_count": 72,
   "metadata": {},
   "outputs": [
    {
     "data": {
      "text/plain": [
       "'A nadie le gusta esto'"
      ]
     },
     "execution_count": 72,
     "metadata": {},
     "output_type": "execute_result"
    }
   ],
   "source": [
    "#EJERCICIO 5:\n",
    "#Función que toma una lista que contiene los nombres de las personas a las que les gusta un artículo.\n",
    "\n",
    "def dar_me_gusta(lista):\n",
    "\n",
    "    mas_me_gusta = len(lista) - 2\n",
    "\n",
    "    if len(lista) == 0:\n",
    "        return (\"A nadie le gusta esto\")\n",
    "    if len(lista) == 1:\n",
    "        return (f\"A {lista[0]} le gusta esto\")\n",
    "    elif len(lista) == 2:\n",
    "        return (f\"A {lista[0]} y {lista[1]} le gusta esto\")\n",
    "    elif len(lista) == 3:\n",
    "        return (\"A Max, John y Mark les gusta esto\")\n",
    "    else:\n",
    "        len(lista) >= 4\n",
    "        return (f\"A {lista[0]}, {lista[1]}, y {mas_me_gusta} más les gusta esto\")\n",
    "\n",
    "\n",
    "dar_me_gusta([])\n"
   ]
  },
  {
   "cell_type": "code",
   "execution_count": 69,
   "metadata": {},
   "outputs": [
    {
     "data": {
      "text/plain": [
       "'A Paola le gusta esto'"
      ]
     },
     "execution_count": 69,
     "metadata": {},
     "output_type": "execute_result"
    }
   ],
   "source": [
    "dar_me_gusta([\"Paola\"])"
   ]
  },
  {
   "cell_type": "code",
   "execution_count": 70,
   "metadata": {},
   "outputs": [
    {
     "data": {
      "text/plain": [
       "'A Jacoba y Alex le gusta esto'"
      ]
     },
     "execution_count": 70,
     "metadata": {},
     "output_type": "execute_result"
    }
   ],
   "source": [
    "dar_me_gusta([\"Jacoba\", \"Alex\"])"
   ]
  },
  {
   "cell_type": "code",
   "execution_count": 73,
   "metadata": {},
   "outputs": [
    {
     "data": {
      "text/plain": [
       "'A Max, John y Mark les gusta esto'"
      ]
     },
     "execution_count": 73,
     "metadata": {},
     "output_type": "execute_result"
    }
   ],
   "source": [
    "dar_me_gusta([\"Maria\", \"Juana\", \"Lola\"] )"
   ]
  },
  {
   "cell_type": "code",
   "execution_count": 71,
   "metadata": {},
   "outputs": [
    {
     "data": {
      "text/plain": [
       "'A Alex, Jacoba, y 3 más les gusta esto'"
      ]
     },
     "execution_count": 71,
     "metadata": {},
     "output_type": "execute_result"
    }
   ],
   "source": [
    "dar_me_gusta([\"Alex\", \"Jacoba\", \"Lola\", \"Carmen\", \"Mariana\"])"
   ]
  }
 ],
 "metadata": {
  "kernelspec": {
   "display_name": "Python 3.10.5 64-bit",
   "language": "python",
   "name": "python3"
  },
  "language_info": {
   "codemirror_mode": {
    "name": "ipython",
    "version": 3
   },
   "file_extension": ".py",
   "mimetype": "text/x-python",
   "name": "python",
   "nbconvert_exporter": "python",
   "pygments_lexer": "ipython3",
   "version": "3.10.5"
  },
  "orig_nbformat": 4,
  "vscode": {
   "interpreter": {
    "hash": "6c417e8ec6dca726918e9382ccd5f9a276f75c00fe45ac2c66804bdd5db60888"
   }
  }
 },
 "nbformat": 4,
 "nbformat_minor": 2
}
