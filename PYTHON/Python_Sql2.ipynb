{
 "cells": [
  {
   "cell_type": "code",
   "execution_count": 21,
   "metadata": {},
   "outputs": [
    {
     "name": "stdout",
     "output_type": "stream",
     "text": [
      "CMySQLCursor: CREATE DATABASE mi_primerita_BBDD_Python\n"
     ]
    }
   ],
   "source": [
    "# CREAR BBDD mi_primerita_BBDD_Python\n",
    "\n",
    "import mysql.connector\n",
    "\n",
    "cnx = mysql.connector.connect(user='root', password='AlumnaAdalab',\n",
    "                              host='127.0.0.1')\n",
    "\n",
    "\n",
    "mycursor = cnx.cursor()\n",
    "try:\n",
    "    mycursor.execute(\"CREATE DATABASE mi_primerita_BBDD_Python\")\n",
    "    print(mycursor)\n",
    "except mysql.connector.Error as err:\n",
    "    print(err)\n",
    "    print(\"Error Code:\", err.errno)\n",
    "    print(\"SQLSTATE\", err.sqlstate)\n",
    "    print(\"Message\", err.msg)\n"
   ]
  },
  {
   "cell_type": "code",
   "execution_count": 22,
   "metadata": {},
   "outputs": [],
   "source": [
    "# FUNCIÓN PARA CREAR LAS TABLAS. \n",
    "\n",
    "def crear_tablas(password, query):\n",
    "\n",
    "    import mysql.connector\n",
    "\n",
    "    cnx = mysql.connector.connect(user='root', password = password,\n",
    "                                host='127.0.0.1', database ='mi_primerita_BBDD_Python')\n",
    "\n",
    "\n",
    "    mycursor = cnx.cursor()\n",
    "    try:\n",
    "        mycursor.execute(query)\n",
    "        print(mycursor)\n",
    "    except mysql.connector.Error as err:\n",
    "        print(err)\n",
    "        print(\"Error Code:\", err.errno)\n",
    "        print(\"SQLSTATE\", err.sqlstate)\n",
    "        print(\"Message\", err.msg)"
   ]
  },
  {
   "cell_type": "code",
   "execution_count": 31,
   "metadata": {},
   "outputs": [],
   "source": [
    "query_zapatillas = '''CREATE TABLE Zapatillas (\n",
    "    id_zapatilla INT AUTO_INCREMENT NOT NULL, \n",
    "    modelo VARCHAR (45) NOT NULL, \n",
    "    color VARCHAR (45) NOT NULL, \n",
    "    talla INT NOT NULL, \n",
    "    PRIMARY KEY (id_zapatilla))'''\n",
    "\n",
    "query_clientes = '''CREATE TABLE clientes (\n",
    "    id_cliente INT AUTO_INCREMENT NOT NULL, \n",
    "    nombre VARCHAR (45) NOT NULL, \n",
    "    numero_telefono INT (9) NOT NULL, \n",
    "    email VARCHAR (45) NOT NULL, \n",
    "    direccion VARCHAR (45) NOT NULL, \n",
    "    ciudad VARCHAR (45) NULL, \n",
    "    provincia VARCHAR (45) NOT NULL, \n",
    "    pais VARCHAR (45) NOT NULL, \n",
    "    codigo_postal VARCHAR (45) NOT NULL, \n",
    "    PRIMARY KEY (id_cliente))'''\n",
    "\n",
    "query_empleados = '''CREATE TABLE empleados (\n",
    "    id_empleado INT AUTO_INCREMENT NOT NULL, \n",
    "    nombre VARCHAR (45) NOT NULL, \n",
    "    tienda VARCHAR (45) NOT NULL, \n",
    "    salario INT NULL, \n",
    "    fecha_incorporacion DATE NOT NULL, \n",
    "    PRIMARY KEY (id_empleado))'''\n",
    "    \n",
    "query_facturas = '''CREATE TABLE Facturas (\n",
    "        id_factura INT NOT NULL AUTO_INCREMENT PRIMARY KEY,\n",
    "        numero_factura VARCHAR(45) NOT NULL,\n",
    "        fecha DATE NOT NULL,\n",
    "        id_zapatilla INT NOT NULL,\n",
    "        id_empleado INT NOT NULL,\n",
    "        id_cliente INT NOT NULL,\n",
    "        CONSTRAINT fk_facturas_zapatillas\n",
    "        FOREIGN KEY (id_zapatilla)\n",
    "            REFERENCES zapatillas (id_zapatilla),\n",
    "        CONSTRAINT fk_facturas_empleados\n",
    "        FOREIGN KEY (id_empleado)\n",
    "            REFERENCES Empleados (id_empleado),\n",
    "        CONSTRAINT fk_facturas_clientes\n",
    "        FOREIGN KEY (id_cliente)\n",
    "            REFERENCES Clientes (id_cliente))'''\n"
   ]
  },
  {
   "cell_type": "code",
   "execution_count": 24,
   "metadata": {},
   "outputs": [
    {
     "name": "stdout",
     "output_type": "stream",
     "text": [
      "CMySQLCursor: CREATE TABLE Zapatillas (\n",
      "    id_zapatil..\n"
     ]
    }
   ],
   "source": [
    "crear_tablas(\"AlumnaAdalab\", query_zapatillas)"
   ]
  },
  {
   "cell_type": "code",
   "execution_count": 25,
   "metadata": {},
   "outputs": [
    {
     "name": "stdout",
     "output_type": "stream",
     "text": [
      "CMySQLCursor: CREATE TABLE clientes (\n",
      "    id_cliente I..\n"
     ]
    }
   ],
   "source": [
    "crear_tablas(\"AlumnaAdalab\", query_clientes)"
   ]
  },
  {
   "cell_type": "code",
   "execution_count": 26,
   "metadata": {},
   "outputs": [
    {
     "name": "stdout",
     "output_type": "stream",
     "text": [
      "CMySQLCursor: CREATE TABLE empleados (\n",
      "    id_empleado..\n"
     ]
    }
   ],
   "source": [
    "crear_tablas(\"AlumnaAdalab\", query_empleados)"
   ]
  },
  {
   "cell_type": "code",
   "execution_count": 32,
   "metadata": {},
   "outputs": [
    {
     "name": "stdout",
     "output_type": "stream",
     "text": [
      "CMySQLCursor: CREATE TABLE Facturas (\n",
      "        id_factu..\n"
     ]
    }
   ],
   "source": [
    "crear_tablas(\"AlumnaAdalab\", query_facturas)"
   ]
  }
 ],
 "metadata": {
  "kernelspec": {
   "display_name": "Python 3.10.5 64-bit",
   "language": "python",
   "name": "python3"
  },
  "language_info": {
   "codemirror_mode": {
    "name": "ipython",
    "version": 3
   },
   "file_extension": ".py",
   "mimetype": "text/x-python",
   "name": "python",
   "nbconvert_exporter": "python",
   "pygments_lexer": "ipython3",
   "version": "3.10.5"
  },
  "orig_nbformat": 4,
  "vscode": {
   "interpreter": {
    "hash": "6c417e8ec6dca726918e9382ccd5f9a276f75c00fe45ac2c66804bdd5db60888"
   }
  }
 },
 "nbformat": 4,
 "nbformat_minor": 2
}
