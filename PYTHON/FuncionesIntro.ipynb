{
 "cells": [
  {
   "cell_type": "code",
   "execution_count": 15,
   "metadata": {},
   "outputs": [
    {
     "data": {
      "text/plain": [
       "8"
      ]
     },
     "execution_count": 15,
     "metadata": {},
     "output_type": "execute_result"
    }
   ],
   "source": [
    "#EJERCICIO 1:\n",
    "#.1.Cread una función que reciba 2 números enteros en forma de string como entrada, y dé como resultado la suma (también en forma de string)\n",
    "\n",
    "def suma_numeros (a,b):\n",
    "\n",
    "    if a == '' and b == '':\n",
    "        return 0\n",
    "    elif a == '':\n",
    "        return b \n",
    "    elif b == '':\n",
    "        return a \n",
    "    else:\n",
    "        suma = int(a) + int(b)\n",
    "        return suma\n",
    "\n",
    "suma_numeros ('6','2')\n",
    "\n"
   ]
  },
  {
   "cell_type": "code",
   "execution_count": 21,
   "metadata": {},
   "outputs": [
    {
     "name": "stdout",
     "output_type": "stream",
     "text": [
      "[23, 64, 53, 17, 88]\n"
     ]
    }
   ],
   "source": [
    "#EJERCICIO 2: COMPARAR DOS LISTAS Y DEVOLVER UNA NUEVA LISTA DE LOS NÚMEROS MAYORES\n",
    "\n",
    "def comparar_enteros(lista1,lista2):\n",
    "\n",
    "    convertir_a_tupla = zip(lista1, lista2)\n",
    "    lista_tuplas = list(convertir_a_tupla)\n",
    "    resultado = []\n",
    "\n",
    "    for i in lista_tuplas:\n",
    "        resultado.append(max(i))\n",
    "\n",
    "    print (resultado)\n",
    "\n",
    "comparar_enteros ([13, 64, 15, 17, 88],[23, 14, 53, 17, 80])"
   ]
  },
  {
   "cell_type": "code",
   "execution_count": 23,
   "metadata": {},
   "outputs": [
    {
     "data": {
      "text/plain": [
       "[2, 4, 1, 1, 6]"
      ]
     },
     "execution_count": 23,
     "metadata": {},
     "output_type": "execute_result"
    }
   ],
   "source": [
    "#EJERCICIO 2: RESUELTO DE OTRA MANERA\n",
    "\n",
    "def comparar_enteros(lista1,lista2):\n",
    "\n",
    "    resultado = []\n",
    "\n",
    "\n",
    "    for i in lista1:\n",
    "        for j in lista2:\n",
    "            if i>j:\n",
    "                resultado.append(i)\n",
    "            else:\n",
    "                resultado.append(j)\n",
    "        \n",
    "        return resultado  \n",
    "\n",
    "comparar_enteros([1,2,3,4,5],[2,4,0,1,6])\n"
   ]
  },
  {
   "cell_type": "code",
   "execution_count": 3,
   "metadata": {},
   "outputs": [
    {
     "data": {
      "text/plain": [
       "'((()))'"
      ]
     },
     "execution_count": 3,
     "metadata": {},
     "output_type": "execute_result"
    }
   ],
   "source": [
    "#EJERCICIO 3:   Convertir un string en un nuevo string en el que cada carácter del nuevo string es \"(\" si ese carácter aparece sólo una vez en el string original, o \")\" si ese carácter aparece más de una vez en el string.\n",
    "\n",
    "def convertir_string(caracteres):\n",
    "\n",
    "    caracteres = caracteres.upper() \n",
    "    lista = []\n",
    "\n",
    "    for i in caracteres:\n",
    "        caracter = caracteres.count(i)\n",
    "        if caracter != 1:\n",
    "            lista.append(\")\")\n",
    "        else:\n",
    "            lista.append(\"(\")\n",
    "\n",
    "    return (\"\".join(lista))\n",
    "\n",
    "convertir_string (\"HolAaa\")"
   ]
  },
  {
   "cell_type": "code",
   "execution_count": 1,
   "metadata": {},
   "outputs": [
    {
     "data": {
      "text/plain": [
       "12936"
      ]
     },
     "execution_count": 1,
     "metadata": {},
     "output_type": "execute_result"
    }
   ],
   "source": [
    "#BONUS 5. \n",
    "#Escribid una función que va a ser una calculadora.\n",
    "\n",
    "def calcular_operación (lista, string):\n",
    "\n",
    "    contador = 1\n",
    "   \n",
    "    for i in lista:\n",
    "        if string == \"*\":\n",
    "            contador = contador * i\n",
    "        elif string == \"+\":\n",
    "            contador2 = sum(lista)\n",
    "            return contador2\n",
    "        else:\n",
    "            print(\"Lo siento, necesito que me indiques una operación válida.\")\n",
    "            return\n",
    "    \n",
    "    return contador\n",
    "    \n",
    "\n",
    "calcular_operación ([11, 6, 98, 1, 2] , \"*\")"
   ]
  },
  {
   "cell_type": "code",
   "execution_count": 2,
   "metadata": {},
   "outputs": [
    {
     "data": {
      "text/plain": [
       "214"
      ]
     },
     "execution_count": 2,
     "metadata": {},
     "output_type": "execute_result"
    }
   ],
   "source": [
    "calcular_operación ([23, 34, 56, 11, 90] , \"+\")"
   ]
  },
  {
   "cell_type": "code",
   "execution_count": 3,
   "metadata": {},
   "outputs": [
    {
     "name": "stdout",
     "output_type": "stream",
     "text": [
      "Lo siento, necesito que me indiques una operación válida.\n"
     ]
    }
   ],
   "source": [
    "calcular_operación ([23, 4,109 , 94, 77] , \"-\")"
   ]
  }
 ],
 "metadata": {
  "kernelspec": {
   "display_name": "Python 3.10.3 64-bit",
   "language": "python",
   "name": "python3"
  },
  "language_info": {
   "codemirror_mode": {
    "name": "ipython",
    "version": 3
   },
   "file_extension": ".py",
   "mimetype": "text/x-python",
   "name": "python",
   "nbconvert_exporter": "python",
   "pygments_lexer": "ipython3",
   "version": "3.10.5"
  },
  "orig_nbformat": 4,
  "vscode": {
   "interpreter": {
    "hash": "6c417e8ec6dca726918e9382ccd5f9a276f75c00fe45ac2c66804bdd5db60888"
   }
  }
 },
 "nbformat": 4,
 "nbformat_minor": 2
}
